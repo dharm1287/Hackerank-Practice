{
  "nbformat": 4,
  "nbformat_minor": 0,
  "metadata": {
    "colab": {
      "provenance": []
    },
    "kernelspec": {
      "name": "python3",
      "display_name": "Python 3"
    },
    "language_info": {
      "name": "python"
    }
  },
  "cells": [
    {
      "cell_type": "markdown",
      "source": [
        "TASK: You are given an HTML code snippet of  lines.\n",
        "Your task is to print start tags, end tags and empty tags separately.\n",
        "[Problem Link ](https://www.hackerrank.com/challenges/html-parser-part-1/problem?h_r=next-challenge&h_v=zen&isFullScreen=true)"
      ],
      "metadata": {
        "id": "CnC3nevriTAE"
      }
    },
    {
      "cell_type": "code",
      "source": [
        "from html.parser import HTMLParser\n",
        "\n",
        "class Parse(HTMLParser):\n",
        "    def __init__(self):\n",
        "    #Since Python 3, we need to call the __init__() function \n",
        "    #of the parent class\n",
        "        super().__init__()\n",
        "        self.reset()\n",
        "    \n",
        "    def handle_starttag(self, tag, attrs):\n",
        "        print ('Start :', tag)\n",
        "        for ele in attrs:\n",
        "            print ('->', ele[0], '>', ele[1])\n",
        "\n",
        "    def handle_endtag(self, tag):\n",
        "        print ('End   :', tag)\n",
        "\n",
        "    def handle_startendtag(self, tag, attrs):\n",
        "        print ('Empty :', tag)\n",
        "        for ele in attrs:\n",
        "            print ('->', ele[0], '>', ele[1])\n",
        "\n",
        "            \n",
        "testParser = Parse()\n",
        "\n",
        "for _ in range(int(input())):\n",
        "    testParser.feed(input())\n"
      ],
      "metadata": {
        "id": "pY8QCPYdhW7k"
      },
      "execution_count": null,
      "outputs": []
    }
  ]
}